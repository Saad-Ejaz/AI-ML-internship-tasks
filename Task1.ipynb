{
 "cells": [
  {
   "cell_type": "code",
   "execution_count": 1,
   "id": "305ce1f6",
   "metadata": {},
   "outputs": [
    {
     "name": "stdout",
     "output_type": "stream",
     "text": [
      "📥 Loading pretrained model...\n"
     ]
    },
    {
     "name": "stderr",
     "output_type": "stream",
     "text": [
      "Device set to use cpu\n"
     ]
    },
    {
     "name": "stdout",
     "output_type": "stream",
     "text": [
      "🚀 App is running! Open http://127.0.0.1:7860 in your browser.\n",
      "* Running on local URL:  http://127.0.0.1:7860\n",
      "* To create a public link, set `share=True` in `launch()`.\n"
     ]
    },
    {
     "data": {
      "text/html": [
       "<div><iframe src=\"http://127.0.0.1:7860/\" width=\"100%\" height=\"500\" allow=\"autoplay; camera; microphone; clipboard-read; clipboard-write;\" frameborder=\"0\" allowfullscreen></iframe></div>"
      ],
      "text/plain": [
       "<IPython.core.display.HTML object>"
      ]
     },
     "metadata": {},
     "output_type": "display_data"
    },
    {
     "data": {
      "text/plain": []
     },
     "execution_count": 1,
     "metadata": {},
     "output_type": "execute_result"
    },
    {
     "name": "stderr",
     "output_type": "stream",
     "text": [
      "c:\\Users\\saade\\AppData\\Local\\Programs\\Python\\Python311\\Lib\\site-packages\\torch\\nn\\modules\\module.py:1762: FutureWarning: `encoder_attention_mask` is deprecated and will be removed in version 4.55.0 for `BertSdpaSelfAttention.forward`.\n",
      "  return forward_call(*args, **kwargs)\n"
     ]
    }
   ],
   "source": [
    "# ✅ BERT News Classifier - Pretrained Model (AG News)\n",
    "from transformers import pipeline\n",
    "import gradio as gr\n",
    "\n",
    "print(\"📥 Loading pretrained model...\")\n",
    "classifier = pipeline(\"text-classification\", model=\"textattack/bert-base-uncased-ag-news\")\n",
    "\n",
    "# ✅ Mapping model labels to categories\n",
    "label_map = {\n",
    "    \"LABEL_0\": \"World 🌍\",\n",
    "    \"LABEL_1\": \"Sports 🏅\",\n",
    "    \"LABEL_2\": \"Business 💼\",\n",
    "    \"LABEL_3\": \"Sci/Tech 🔬\"\n",
    "}\n",
    "\n",
    "# ✅ Prediction function for Gradio\n",
    "def predict_news_topic(headline):\n",
    "    prediction = classifier(headline)[0]\n",
    "    label = prediction['label']\n",
    "    confidence = round(prediction['score'] * 100, 2)\n",
    "    return f\"**Category:** {label_map[label]}\\n**Confidence:** {confidence}%\"\n",
    "\n",
    "# ✅ Gradio Interface\n",
    "interface = gr.Interface(\n",
    "    fn=predict_news_topic,\n",
    "    inputs=gr.Textbox(lines=2, placeholder=\"Enter a news headline...\"),\n",
    "    outputs=\"text\",\n",
    "    title=\"📰 BERT News Classifier\",\n",
    "    description=\"Enter a news headline to classify it into World, Sports, Business, or Sci/Tech.\"\n",
    ")\n",
    "\n",
    "print(\"🚀 App is running! Open http://127.0.0.1:7860 in your browser.\")\n",
    "interface.launch()\n"
   ]
  }
 ],
 "metadata": {
  "kernelspec": {
   "display_name": "Python 3",
   "language": "python",
   "name": "python3"
  },
  "language_info": {
   "codemirror_mode": {
    "name": "ipython",
    "version": 3
   },
   "file_extension": ".py",
   "mimetype": "text/x-python",
   "name": "python",
   "nbconvert_exporter": "python",
   "pygments_lexer": "ipython3",
   "version": "3.11.7"
  }
 },
 "nbformat": 4,
 "nbformat_minor": 5
}
